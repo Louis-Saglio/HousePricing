{
 "cells": [
  {
   "cell_type": "code",
   "execution_count": 27,
   "metadata": {
    "collapsed": true
   },
   "outputs": [
    {
     "ename": "SyntaxError",
     "evalue": "from __future__ imports must occur at the beginning of the file (<ipython-input-27-0d3485b2a272>, line 4)",
     "output_type": "error",
     "traceback": [
      "\u001B[0;36m  File \u001B[0;32m\"<ipython-input-27-0d3485b2a272>\"\u001B[0;36m, line \u001B[0;32m4\u001B[0m\n\u001B[0;31m    \u001B[0m\n\u001B[0m    ^\u001B[0m\n\u001B[0;31mSyntaxError\u001B[0m\u001B[0;31m:\u001B[0m from __future__ imports must occur at the beginning of the file\n"
     ]
    }
   ],
   "source": [
    "from __future__ import annotations\n",
    "\n",
    "from typing import List\n",
    "\n",
    "import pandas as pd"
   ]
  },
  {
   "cell_type": "code",
   "execution_count": 10,
   "outputs": [],
   "source": [
    "original_train_data = pd.read_csv('../data/house-prices/train.csv')"
   ],
   "metadata": {
    "collapsed": false,
    "pycharm": {
     "name": "#%%\n"
    }
   }
  },
  {
   "cell_type": "code",
   "execution_count": 11,
   "outputs": [
    {
     "data": {
      "text/plain": "Id     MSSubClass  MSZoning  LotFrontage  LotArea  Street  Alley  LotShape  LandContour  Utilities  LotConfig  LandSlope  Neighborhood  Condition1  Condition2  BldgType  HouseStyle  OverallQual  OverallCond  YearBuilt  YearRemodAdd  RoofStyle  RoofMatl  Exterior1st  Exterior2nd  MasVnrType  MasVnrArea  ExterQual  ExterCond  Foundation  BsmtQual  BsmtCond  BsmtExposure  BsmtFinType1  BsmtFinSF1  BsmtFinType2  BsmtFinSF2  BsmtUnfSF  TotalBsmtSF  Heating  HeatingQC  CentralAir  Electrical  1stFlrSF  2ndFlrSF  LowQualFinSF  GrLivArea  BsmtFullBath  BsmtHalfBath  FullBath  HalfBath  BedroomAbvGr  KitchenAbvGr  KitchenQual  TotRmsAbvGrd  Functional  Fireplaces  FireplaceQu  GarageType  GarageYrBlt  GarageFinish  GarageCars  GarageArea  GarageQual  GarageCond  PavedDrive  WoodDeckSF  OpenPorchSF  EnclosedPorch  3SsnPorch  ScreenPorch  PoolArea  PoolQC  Fence  MiscFeature  MiscVal  MoSold  YrSold  SaleType  SaleCondition  SalePrice\nFalse  False       False     False        False    False   True   False     False        False      False      False      False         False       False       False     False       False        False        False      False         False      False     False        False        False       False       False      False      False       False     False     False         False         False       False         False       False      False        False    False      False       False       False     False     False         False      False         False         False     False     False         False         False        False         False       False       False        False       False        False         False       False       False       False       False       False       False        False          False      False        False     True    True   True         False    False   False   False     False          False        459\n                                                                                                                                                                                                                                                                                                                                                                                                                                                                                                                                                                                                                                                                                        True         False       False        False         False       False       False       False       False       False       False        False          False      False        False     True    True   True         False    False   False   False     False          False        345\n                             True         False    False   True   False     False        False      False      False      False         False       False       False     False       False        False        False      False         False      False     False        False        False       False       False      False      False       False     False     False         False         False       False         False       False      False        False    False      False       False       False     False     False         False      False         False         False     False     False         False         False        False         False       False       False        False       False        False         False       False       False       False       False       False       False        False          False      False        False     True    True   True         False    False   False   False     False          False        129\n                             False        False    False   True   False     False        False      False      False      False         False       False       False     False       False        False        False      False         False      False     False        False        False       False       False      False      False       False     False     False         False         False       False         False       False      False        False    False      False       False       False     False     False         False      False         False         False     False     False         False         False        False         False       False       True         False       False        False         False       False       False       False       False       False       False        False          False      False        False     True    False  True         False    False   False   False     False          False         94\n                                                                                                                                                                                                                                                                                                                                                                                                                                                                                                                                                                                                                                                                                        False        False       False        False         False       False       False       False       False       False       False        False          False      False        False     True    False  True         False    False   False   False     False          False         83\n                                                                                                                                                                                                                                                                                                                                                                                                                                                                                                                                                                                                                                                                                                                                                                                                                                                                                                                                                                            ... \n                                                                                                                                                                                                                                                                                                                                                  True      True      True          True          False       True          False       False      False        False    False      False       False       False     False     False         False      False         False         False     False     False         False         False        False         False       False       False        True        True         True          False       False       True        True        False       False       False        False          False      False        False     True    True   True         False    False   False   False     False          False          1\n                                                                                                                                                                                                                                                                                                                                                  False     False     True          False         False       False         False       False      False        False    False      False       False       False     False     False         False      False         False         False     False     False         False         False        False         False       False       False        False       False        False         False       False       False       False       False       False       False        False          False      False        False     True    True   True         False    False   False   False     False          False          1\n                                                                                                                                                                                                                                                                                                                                                                      False         False         False       False         False       False      False        False    False      False       True        False     False     False         False      False         False         False     False     False         False         False        False         False       False       True         False       False        False         False       False       False       False       False       False       False        False          False      False        False     True    True   True         False    False   False   False     False          False          1\n                                                                                                                                                                                                                                                                                                                                                                                                                                                                                                False       False     False     False         False      False         False         False     False     False         False         False        False         False       False       True         True        True         True          False       False       True        True        False       False       False        False          False      False        False     True    True   False        False    False   False   False     False          False          1\n                                                           False  False     False        False      False      False      False         False       False       False     False       False        False        False      False         False      False     False        False        False       False       False      False      False       False     False     False         False         False       False         False       False      False        False    False      False       False       False     False     False         False      False         False         False     False     False         False         False        False         False       False       False        False       False        False         False       False       False       False       False       False       False        False          False      False        False     True    False  False        False    False   False   False     False          False          1\nLength: 61, dtype: int64"
     },
     "execution_count": 11,
     "metadata": {},
     "output_type": "execute_result"
    }
   ],
   "source": [
    "original_train_data.isna().value_counts()"
   ],
   "metadata": {
    "collapsed": false,
    "pycharm": {
     "name": "#%%\n"
    }
   }
  },
  {
   "cell_type": "code",
   "execution_count": 13,
   "outputs": [
    {
     "data": {
      "text/plain": "   MSSubClass MSZoning  LotArea Neighborhood\n0          60       RL     8450      CollgCr\n1          20       RL     9600      Veenker\n2          60       RL    11250      CollgCr\n3          70       RL     9550      Crawfor\n4          60       RL    14260      NoRidge",
      "text/html": "<div>\n<style scoped>\n    .dataframe tbody tr th:only-of-type {\n        vertical-align: middle;\n    }\n\n    .dataframe tbody tr th {\n        vertical-align: top;\n    }\n\n    .dataframe thead th {\n        text-align: right;\n    }\n</style>\n<table border=\"1\" class=\"dataframe\">\n  <thead>\n    <tr style=\"text-align: right;\">\n      <th></th>\n      <th>MSSubClass</th>\n      <th>MSZoning</th>\n      <th>LotArea</th>\n      <th>Neighborhood</th>\n    </tr>\n  </thead>\n  <tbody>\n    <tr>\n      <th>0</th>\n      <td>60</td>\n      <td>RL</td>\n      <td>8450</td>\n      <td>CollgCr</td>\n    </tr>\n    <tr>\n      <th>1</th>\n      <td>20</td>\n      <td>RL</td>\n      <td>9600</td>\n      <td>Veenker</td>\n    </tr>\n    <tr>\n      <th>2</th>\n      <td>60</td>\n      <td>RL</td>\n      <td>11250</td>\n      <td>CollgCr</td>\n    </tr>\n    <tr>\n      <th>3</th>\n      <td>70</td>\n      <td>RL</td>\n      <td>9550</td>\n      <td>Crawfor</td>\n    </tr>\n    <tr>\n      <th>4</th>\n      <td>60</td>\n      <td>RL</td>\n      <td>14260</td>\n      <td>NoRidge</td>\n    </tr>\n  </tbody>\n</table>\n</div>"
     },
     "execution_count": 13,
     "metadata": {},
     "output_type": "execute_result"
    }
   ],
   "source": [
    "x_train = original_train_data[['MSSubClass', 'MSZoning', 'LotArea', 'Neighborhood']]\n",
    "x_train.head()"
   ],
   "metadata": {
    "collapsed": false,
    "pycharm": {
     "name": "#%%\n"
    }
   }
  },
  {
   "cell_type": "code",
   "execution_count": 28,
   "outputs": [
    {
     "ename": "NameError",
     "evalue": "name 'ModelInterface' is not defined",
     "output_type": "error",
     "traceback": [
      "\u001B[0;31m\u001B[0m",
      "\u001B[0;31mNameError\u001B[0mTraceback (most recent call last)",
      "\u001B[0;32m<ipython-input-28-72352882d193>\u001B[0m in \u001B[0;36m<module>\u001B[0;34m\u001B[0m\n\u001B[0;32m----> 1\u001B[0;31m \u001B[0;32mclass\u001B[0m \u001B[0mMLProject\u001B[0m\u001B[0;34m:\u001B[0m\u001B[0;34m\u001B[0m\u001B[0;34m\u001B[0m\u001B[0m\n\u001B[0m\u001B[1;32m      2\u001B[0m   \u001B[0mcolumns\u001B[0m\u001B[0;34m:\u001B[0m \u001B[0mList\u001B[0m\u001B[0;34m[\u001B[0m\u001B[0mstr\u001B[0m\u001B[0;34m]\u001B[0m \u001B[0;34m=\u001B[0m \u001B[0;32mNone\u001B[0m\u001B[0;34m\u001B[0m\u001B[0;34m\u001B[0m\u001B[0m\n\u001B[1;32m      3\u001B[0m   \u001B[0mx_train\u001B[0m\u001B[0;34m:\u001B[0m \u001B[0mpd\u001B[0m\u001B[0;34m.\u001B[0m\u001B[0mDataFrame\u001B[0m \u001B[0;34m=\u001B[0m \u001B[0;32mNone\u001B[0m\u001B[0;34m\u001B[0m\u001B[0;34m\u001B[0m\u001B[0m\n\u001B[1;32m      4\u001B[0m   \u001B[0mcolumns_to_dummify\u001B[0m\u001B[0;34m:\u001B[0m \u001B[0mList\u001B[0m\u001B[0;34m[\u001B[0m\u001B[0mstr\u001B[0m\u001B[0;34m]\u001B[0m \u001B[0;34m=\u001B[0m \u001B[0;34m[\u001B[0m\u001B[0;34m]\u001B[0m\u001B[0;34m\u001B[0m\u001B[0;34m\u001B[0m\u001B[0m\n\u001B[1;32m      5\u001B[0m   \u001B[0mbool_columns_to_integer\u001B[0m\u001B[0;34m:\u001B[0m \u001B[0mList\u001B[0m\u001B[0;34m[\u001B[0m\u001B[0mstr\u001B[0m\u001B[0;34m]\u001B[0m \u001B[0;34m=\u001B[0m \u001B[0;34m[\u001B[0m\u001B[0;34m]\u001B[0m\u001B[0;34m\u001B[0m\u001B[0;34m\u001B[0m\u001B[0m\n",
      "\u001B[0;32m<ipython-input-28-72352882d193>\u001B[0m in \u001B[0;36mMLProject\u001B[0;34m()\u001B[0m\n\u001B[1;32m     28\u001B[0m     )\n\u001B[1;32m     29\u001B[0m \u001B[0;34m\u001B[0m\u001B[0m\n\u001B[0;32m---> 30\u001B[0;31m   \u001B[0;32mdef\u001B[0m \u001B[0mbuild_model\u001B[0m\u001B[0;34m(\u001B[0m\u001B[0mself\u001B[0m\u001B[0;34m)\u001B[0m \u001B[0;34m->\u001B[0m \u001B[0mModelInterface\u001B[0m\u001B[0;34m:\u001B[0m\u001B[0;34m\u001B[0m\u001B[0;34m\u001B[0m\u001B[0m\n\u001B[0m\u001B[1;32m     31\u001B[0m     \u001B[0;32mraise\u001B[0m \u001B[0mNotImplementedError\u001B[0m\u001B[0;34m\u001B[0m\u001B[0;34m\u001B[0m\u001B[0m\n\u001B[1;32m     32\u001B[0m \u001B[0;34m\u001B[0m\u001B[0m\n",
      "\u001B[0;31mNameError\u001B[0m: name 'ModelInterface' is not defined"
     ]
    }
   ],
   "source": [
    "class MLProject:\n",
    "  columns: List[str] = None\n",
    "  x_train: pd.DataFrame = None\n",
    "  columns_to_dummify: List[str] = []\n",
    "  bool_columns_to_integer: List[str] = []\n",
    "\n",
    "  def get_columns(self) -> List[str]:\n",
    "    if self.columns is not None:\n",
    "      return self.columns\n",
    "    raise NotImplementedError\n",
    "\n",
    "  def load_x_train_data(self) -> pd.DataFrame:\n",
    "    raise NotImplementedError\n",
    "\n",
    "  def load_y_train(self) -> pd.DataFrame:\n",
    "    raise NotImplementedError\n",
    "\n",
    "  def prepare_x_data(self):\n",
    "    self.x_train = self.load_x_train_data()[[*self.get_columns()]]\n",
    "    self.x_train = pd.get_dummies(self.x_train, columns=self.columns_to_dummify)\n",
    "    for column_name in self.bool_columns_to_integer:\n",
    "      self.x_train[column_name] = self.x_train[column_name].astype(int)\n",
    "\n",
    "  def train(self):\n",
    "    model = self.build_model()\n",
    "    model.fit(\n",
    "\n",
    "    )\n",
    "\n",
    "  def build_model(self) -> 'ModelInterface':  # todo use modern annotation\n",
    "    raise NotImplementedError\n",
    "\n",
    "\n",
    "class ModelInterface:\n",
    "  def fit(self, *args, **kwargs):\n",
    "    raise NotImplementedError\n",
    "\n",
    "\n",
    "class CSVLoaderMixin:\n",
    "  x_train_file_path: str\n",
    "  x_test_file_path: str\n",
    "  y_train_file_path: str\n",
    "\n",
    "  class FileType:\n",
    "    X_TRAIN = 'x_train'\n",
    "    X_TEST = 'x_test'\n",
    "    Y_TRAIN = 'y_train'\n",
    "\n",
    "  def _get_file_path(self, file_type: FileType) -> str:\n",
    "    parameter_name = f\"{file_type}_file_path\"\n",
    "    if hasattr(self, parameter_name) is not None:\n",
    "      return getattr(self, parameter_name)\n",
    "    raise NotImplementedError\n",
    "\n",
    "  def load_csv(self, file_type: FileType):\n",
    "    return pd.read_csv(self._get_file_path(file_type))\n",
    "\n",
    "  def load_x_train_data(self) -> pd.DataFrame:\n",
    "    return self.load_csv(self.FileType.X_TRAIN)\n",
    "\n",
    "  def load_y_train_data(self) -> pd.DataFrame:\n",
    "    return self.load_csv(self.FileType.X_TEST)"
   ],
   "metadata": {
    "collapsed": false,
    "pycharm": {
     "name": "#%%\n"
    }
   }
  },
  {
   "cell_type": "code",
   "execution_count": 22,
   "outputs": [],
   "source": [
    "class HousePriceProject(CSVLoaderMixin, MLProject):\n",
    "  x_train_file_path = '../data/house-prices/train.csv'\n",
    "  columns = ['MSSubClass', 'MSZoning', 'LotArea', 'Neighborhood']\n",
    "  columns_to_dummify = ['MSSubClass', 'MSZoning', 'Neighborhood']"
   ],
   "metadata": {
    "collapsed": false,
    "pycharm": {
     "name": "#%%\n"
    }
   }
  },
  {
   "cell_type": "code",
   "execution_count": 24,
   "outputs": [],
   "source": [
    "project = HousePriceProject()\n",
    "project.prepare_x_data()"
   ],
   "metadata": {
    "collapsed": false,
    "pycharm": {
     "name": "#%%\n"
    }
   }
  },
  {
   "cell_type": "code",
   "execution_count": 25,
   "outputs": [
    {
     "data": {
      "text/plain": "      LotArea  MSSubClass_20  MSSubClass_30  MSSubClass_40  MSSubClass_45  \\\n0        8450              0              0              0              0   \n1        9600              1              0              0              0   \n2       11250              0              0              0              0   \n3        9550              0              0              0              0   \n4       14260              0              0              0              0   \n...       ...            ...            ...            ...            ...   \n1455     7917              0              0              0              0   \n1456    13175              1              0              0              0   \n1457     9042              0              0              0              0   \n1458     9717              1              0              0              0   \n1459     9937              1              0              0              0   \n\n      MSSubClass_50  MSSubClass_60  MSSubClass_70  MSSubClass_75  \\\n0                 0              1              0              0   \n1                 0              0              0              0   \n2                 0              1              0              0   \n3                 0              0              1              0   \n4                 0              1              0              0   \n...             ...            ...            ...            ...   \n1455              0              1              0              0   \n1456              0              0              0              0   \n1457              0              0              1              0   \n1458              0              0              0              0   \n1459              0              0              0              0   \n\n      MSSubClass_80  ...  Neighborhood_NoRidge  Neighborhood_NridgHt  \\\n0                 0  ...                     0                     0   \n1                 0  ...                     0                     0   \n2                 0  ...                     0                     0   \n3                 0  ...                     0                     0   \n4                 0  ...                     1                     0   \n...             ...  ...                   ...                   ...   \n1455              0  ...                     0                     0   \n1456              0  ...                     0                     0   \n1457              0  ...                     0                     0   \n1458              0  ...                     0                     0   \n1459              0  ...                     0                     0   \n\n      Neighborhood_OldTown  Neighborhood_SWISU  Neighborhood_Sawyer  \\\n0                        0                   0                    0   \n1                        0                   0                    0   \n2                        0                   0                    0   \n3                        0                   0                    0   \n4                        0                   0                    0   \n...                    ...                 ...                  ...   \n1455                     0                   0                    0   \n1456                     0                   0                    0   \n1457                     0                   0                    0   \n1458                     0                   0                    0   \n1459                     0                   0                    0   \n\n      Neighborhood_SawyerW  Neighborhood_Somerst  Neighborhood_StoneBr  \\\n0                        0                     0                     0   \n1                        0                     0                     0   \n2                        0                     0                     0   \n3                        0                     0                     0   \n4                        0                     0                     0   \n...                    ...                   ...                   ...   \n1455                     0                     0                     0   \n1456                     0                     0                     0   \n1457                     0                     0                     0   \n1458                     0                     0                     0   \n1459                     0                     0                     0   \n\n      Neighborhood_Timber  Neighborhood_Veenker  \n0                       0                     0  \n1                       0                     1  \n2                       0                     0  \n3                       0                     0  \n4                       0                     0  \n...                   ...                   ...  \n1455                    0                     0  \n1456                    0                     0  \n1457                    0                     0  \n1458                    0                     0  \n1459                    0                     0  \n\n[1460 rows x 46 columns]",
      "text/html": "<div>\n<style scoped>\n    .dataframe tbody tr th:only-of-type {\n        vertical-align: middle;\n    }\n\n    .dataframe tbody tr th {\n        vertical-align: top;\n    }\n\n    .dataframe thead th {\n        text-align: right;\n    }\n</style>\n<table border=\"1\" class=\"dataframe\">\n  <thead>\n    <tr style=\"text-align: right;\">\n      <th></th>\n      <th>LotArea</th>\n      <th>MSSubClass_20</th>\n      <th>MSSubClass_30</th>\n      <th>MSSubClass_40</th>\n      <th>MSSubClass_45</th>\n      <th>MSSubClass_50</th>\n      <th>MSSubClass_60</th>\n      <th>MSSubClass_70</th>\n      <th>MSSubClass_75</th>\n      <th>MSSubClass_80</th>\n      <th>...</th>\n      <th>Neighborhood_NoRidge</th>\n      <th>Neighborhood_NridgHt</th>\n      <th>Neighborhood_OldTown</th>\n      <th>Neighborhood_SWISU</th>\n      <th>Neighborhood_Sawyer</th>\n      <th>Neighborhood_SawyerW</th>\n      <th>Neighborhood_Somerst</th>\n      <th>Neighborhood_StoneBr</th>\n      <th>Neighborhood_Timber</th>\n      <th>Neighborhood_Veenker</th>\n    </tr>\n  </thead>\n  <tbody>\n    <tr>\n      <th>0</th>\n      <td>8450</td>\n      <td>0</td>\n      <td>0</td>\n      <td>0</td>\n      <td>0</td>\n      <td>0</td>\n      <td>1</td>\n      <td>0</td>\n      <td>0</td>\n      <td>0</td>\n      <td>...</td>\n      <td>0</td>\n      <td>0</td>\n      <td>0</td>\n      <td>0</td>\n      <td>0</td>\n      <td>0</td>\n      <td>0</td>\n      <td>0</td>\n      <td>0</td>\n      <td>0</td>\n    </tr>\n    <tr>\n      <th>1</th>\n      <td>9600</td>\n      <td>1</td>\n      <td>0</td>\n      <td>0</td>\n      <td>0</td>\n      <td>0</td>\n      <td>0</td>\n      <td>0</td>\n      <td>0</td>\n      <td>0</td>\n      <td>...</td>\n      <td>0</td>\n      <td>0</td>\n      <td>0</td>\n      <td>0</td>\n      <td>0</td>\n      <td>0</td>\n      <td>0</td>\n      <td>0</td>\n      <td>0</td>\n      <td>1</td>\n    </tr>\n    <tr>\n      <th>2</th>\n      <td>11250</td>\n      <td>0</td>\n      <td>0</td>\n      <td>0</td>\n      <td>0</td>\n      <td>0</td>\n      <td>1</td>\n      <td>0</td>\n      <td>0</td>\n      <td>0</td>\n      <td>...</td>\n      <td>0</td>\n      <td>0</td>\n      <td>0</td>\n      <td>0</td>\n      <td>0</td>\n      <td>0</td>\n      <td>0</td>\n      <td>0</td>\n      <td>0</td>\n      <td>0</td>\n    </tr>\n    <tr>\n      <th>3</th>\n      <td>9550</td>\n      <td>0</td>\n      <td>0</td>\n      <td>0</td>\n      <td>0</td>\n      <td>0</td>\n      <td>0</td>\n      <td>1</td>\n      <td>0</td>\n      <td>0</td>\n      <td>...</td>\n      <td>0</td>\n      <td>0</td>\n      <td>0</td>\n      <td>0</td>\n      <td>0</td>\n      <td>0</td>\n      <td>0</td>\n      <td>0</td>\n      <td>0</td>\n      <td>0</td>\n    </tr>\n    <tr>\n      <th>4</th>\n      <td>14260</td>\n      <td>0</td>\n      <td>0</td>\n      <td>0</td>\n      <td>0</td>\n      <td>0</td>\n      <td>1</td>\n      <td>0</td>\n      <td>0</td>\n      <td>0</td>\n      <td>...</td>\n      <td>1</td>\n      <td>0</td>\n      <td>0</td>\n      <td>0</td>\n      <td>0</td>\n      <td>0</td>\n      <td>0</td>\n      <td>0</td>\n      <td>0</td>\n      <td>0</td>\n    </tr>\n    <tr>\n      <th>...</th>\n      <td>...</td>\n      <td>...</td>\n      <td>...</td>\n      <td>...</td>\n      <td>...</td>\n      <td>...</td>\n      <td>...</td>\n      <td>...</td>\n      <td>...</td>\n      <td>...</td>\n      <td>...</td>\n      <td>...</td>\n      <td>...</td>\n      <td>...</td>\n      <td>...</td>\n      <td>...</td>\n      <td>...</td>\n      <td>...</td>\n      <td>...</td>\n      <td>...</td>\n      <td>...</td>\n    </tr>\n    <tr>\n      <th>1455</th>\n      <td>7917</td>\n      <td>0</td>\n      <td>0</td>\n      <td>0</td>\n      <td>0</td>\n      <td>0</td>\n      <td>1</td>\n      <td>0</td>\n      <td>0</td>\n      <td>0</td>\n      <td>...</td>\n      <td>0</td>\n      <td>0</td>\n      <td>0</td>\n      <td>0</td>\n      <td>0</td>\n      <td>0</td>\n      <td>0</td>\n      <td>0</td>\n      <td>0</td>\n      <td>0</td>\n    </tr>\n    <tr>\n      <th>1456</th>\n      <td>13175</td>\n      <td>1</td>\n      <td>0</td>\n      <td>0</td>\n      <td>0</td>\n      <td>0</td>\n      <td>0</td>\n      <td>0</td>\n      <td>0</td>\n      <td>0</td>\n      <td>...</td>\n      <td>0</td>\n      <td>0</td>\n      <td>0</td>\n      <td>0</td>\n      <td>0</td>\n      <td>0</td>\n      <td>0</td>\n      <td>0</td>\n      <td>0</td>\n      <td>0</td>\n    </tr>\n    <tr>\n      <th>1457</th>\n      <td>9042</td>\n      <td>0</td>\n      <td>0</td>\n      <td>0</td>\n      <td>0</td>\n      <td>0</td>\n      <td>0</td>\n      <td>1</td>\n      <td>0</td>\n      <td>0</td>\n      <td>...</td>\n      <td>0</td>\n      <td>0</td>\n      <td>0</td>\n      <td>0</td>\n      <td>0</td>\n      <td>0</td>\n      <td>0</td>\n      <td>0</td>\n      <td>0</td>\n      <td>0</td>\n    </tr>\n    <tr>\n      <th>1458</th>\n      <td>9717</td>\n      <td>1</td>\n      <td>0</td>\n      <td>0</td>\n      <td>0</td>\n      <td>0</td>\n      <td>0</td>\n      <td>0</td>\n      <td>0</td>\n      <td>0</td>\n      <td>...</td>\n      <td>0</td>\n      <td>0</td>\n      <td>0</td>\n      <td>0</td>\n      <td>0</td>\n      <td>0</td>\n      <td>0</td>\n      <td>0</td>\n      <td>0</td>\n      <td>0</td>\n    </tr>\n    <tr>\n      <th>1459</th>\n      <td>9937</td>\n      <td>1</td>\n      <td>0</td>\n      <td>0</td>\n      <td>0</td>\n      <td>0</td>\n      <td>0</td>\n      <td>0</td>\n      <td>0</td>\n      <td>0</td>\n      <td>...</td>\n      <td>0</td>\n      <td>0</td>\n      <td>0</td>\n      <td>0</td>\n      <td>0</td>\n      <td>0</td>\n      <td>0</td>\n      <td>0</td>\n      <td>0</td>\n      <td>0</td>\n    </tr>\n  </tbody>\n</table>\n<p>1460 rows × 46 columns</p>\n</div>"
     },
     "execution_count": 25,
     "metadata": {},
     "output_type": "execute_result"
    }
   ],
   "source": [
    "project.x_train"
   ],
   "metadata": {
    "collapsed": false,
    "pycharm": {
     "name": "#%%\n"
    }
   }
  },
  {
   "cell_type": "code",
   "execution_count": null,
   "outputs": [],
   "source": [],
   "metadata": {
    "collapsed": false,
    "pycharm": {
     "name": "#%%\n"
    }
   }
  }
 ],
 "metadata": {
  "kernelspec": {
   "display_name": "Python 3",
   "language": "python",
   "name": "python3"
  },
  "language_info": {
   "codemirror_mode": {
    "name": "ipython",
    "version": 2
   },
   "file_extension": ".py",
   "mimetype": "text/x-python",
   "name": "python",
   "nbconvert_exporter": "python",
   "pygments_lexer": "ipython2",
   "version": "2.7.6"
  }
 },
 "nbformat": 4,
 "nbformat_minor": 0
}