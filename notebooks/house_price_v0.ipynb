{
 "cells": [
  {
   "cell_type": "code",
   "execution_count": 1,
   "metadata": {
    "collapsed": true
   },
   "outputs": [],
   "source": [
    "import pandas as pd\n",
    "from libs.mlproject import CSVLoaderMixin, MLProject, ModelInterface\n",
    "\n",
    "from tensorflow.keras import  Input\n",
    "from tensorflow.keras.models import Model\n",
    "from tensorflow.keras.layers import Dense\n",
    "from tensorflow.keras.callbacks import EarlyStopping"
   ]
  },
  {
   "cell_type": "code",
   "execution_count": 2,
   "metadata": {
    "pycharm": {
     "name": "#%%\n"
    }
   },
   "outputs": [],
   "source": [
    "original_train_data = pd.read_csv('../data/house-prices/train.csv')"
   ]
  },
  {
   "cell_type": "code",
   "execution_count": 3,
   "metadata": {
    "pycharm": {
     "name": "#%%\n"
    }
   },
   "outputs": [
    {
     "data": {
      "text/plain": "Id     MSSubClass  MSZoning  LotFrontage  LotArea  Street  Alley  LotShape  LandContour  Utilities  LotConfig  LandSlope  Neighborhood  Condition1  Condition2  BldgType  HouseStyle  OverallQual  OverallCond  YearBuilt  YearRemodAdd  RoofStyle  RoofMatl  Exterior1st  Exterior2nd  MasVnrType  MasVnrArea  ExterQual  ExterCond  Foundation  BsmtQual  BsmtCond  BsmtExposure  BsmtFinType1  BsmtFinSF1  BsmtFinType2  BsmtFinSF2  BsmtUnfSF  TotalBsmtSF  Heating  HeatingQC  CentralAir  Electrical  1stFlrSF  2ndFlrSF  LowQualFinSF  GrLivArea  BsmtFullBath  BsmtHalfBath  FullBath  HalfBath  BedroomAbvGr  KitchenAbvGr  KitchenQual  TotRmsAbvGrd  Functional  Fireplaces  FireplaceQu  GarageType  GarageYrBlt  GarageFinish  GarageCars  GarageArea  GarageQual  GarageCond  PavedDrive  WoodDeckSF  OpenPorchSF  EnclosedPorch  3SsnPorch  ScreenPorch  PoolArea  PoolQC  Fence  MiscFeature  MiscVal  MoSold  YrSold  SaleType  SaleCondition  SalePrice\nFalse  False       False     False        False    False   True   False     False        False      False      False      False         False       False       False     False       False        False        False      False         False      False     False        False        False       False       False      False      False       False     False     False         False         False       False         False       False      False        False    False      False       False       False     False     False         False      False         False         False     False     False         False         False        False         False       False       False        False       False        False         False       False       False       False       False       False       False        False          False      False        False     True    True   True         False    False   False   False     False          False        459\n                                                                                                                                                                                                                                                                                                                                                                                                                                                                                                                                                                                                                                                                                        True         False       False        False         False       False       False       False       False       False       False        False          False      False        False     True    True   True         False    False   False   False     False          False        345\n                             True         False    False   True   False     False        False      False      False      False         False       False       False     False       False        False        False      False         False      False     False        False        False       False       False      False      False       False     False     False         False         False       False         False       False      False        False    False      False       False       False     False     False         False      False         False         False     False     False         False         False        False         False       False       False        False       False        False         False       False       False       False       False       False       False        False          False      False        False     True    True   True         False    False   False   False     False          False        129\n                             False        False    False   True   False     False        False      False      False      False         False       False       False     False       False        False        False      False         False      False     False        False        False       False       False      False      False       False     False     False         False         False       False         False       False      False        False    False      False       False       False     False     False         False      False         False         False     False     False         False         False        False         False       False       True         False       False        False         False       False       False       False       False       False       False        False          False      False        False     True    False  True         False    False   False   False     False          False         94\n                                                                                                                                                                                                                                                                                                                                                                                                                                                                                                                                                                                                                                                                                        False        False       False        False         False       False       False       False       False       False       False        False          False      False        False     True    False  True         False    False   False   False     False          False         83\n                                                                                                                                                                                                                                                                                                                                                                                                                                                                                                                                                                                                                                                                                                                                                                                                                                                                                                                                                                            ... \n                                                                                                                                                                                                                                                                                                                                                  True      True      True          True          False       True          False       False      False        False    False      False       False       False     False     False         False      False         False         False     False     False         False         False        False         False       False       False        True        True         True          False       False       True        True        False       False       False        False          False      False        False     True    True   True         False    False   False   False     False          False          1\n                                                                                                                                                                                                                                                                                                                                                  False     False     True          False         False       False         False       False      False        False    False      False       False       False     False     False         False      False         False         False     False     False         False         False        False         False       False       False        False       False        False         False       False       False       False       False       False       False        False          False      False        False     True    True   True         False    False   False   False     False          False          1\n                                                                                                                                                                                                                                                                                                                                                                      False         False         False       False         False       False      False        False    False      False       True        False     False     False         False      False         False         False     False     False         False         False        False         False       False       True         False       False        False         False       False       False       False       False       False       False        False          False      False        False     True    True   True         False    False   False   False     False          False          1\n                                                                                                                                                                                                                                                                                                                                                                                                                                                                                                False       False     False     False         False      False         False         False     False     False         False         False        False         False       False       True         True        True         True          False       False       True        True        False       False       False        False          False      False        False     True    True   False        False    False   False   False     False          False          1\n                                                           False  False     False        False      False      False      False         False       False       False     False       False        False        False      False         False      False     False        False        False       False       False      False      False       False     False     False         False         False       False         False       False      False        False    False      False       False       False     False     False         False      False         False         False     False     False         False         False        False         False       False       False        False       False        False         False       False       False       False       False       False       False        False          False      False        False     True    False  False        False    False   False   False     False          False          1\nLength: 61, dtype: int64"
     },
     "execution_count": 3,
     "metadata": {},
     "output_type": "execute_result"
    }
   ],
   "source": [
    "original_train_data.isna().value_counts()"
   ]
  },
  {
   "cell_type": "code",
   "execution_count": 4,
   "metadata": {
    "pycharm": {
     "name": "#%%\n"
    }
   },
   "outputs": [
    {
     "data": {
      "text/plain": "   MSSubClass MSZoning  LotArea Neighborhood\n0          60       RL     8450      CollgCr\n1          20       RL     9600      Veenker\n2          60       RL    11250      CollgCr\n3          70       RL     9550      Crawfor\n4          60       RL    14260      NoRidge",
      "text/html": "<div>\n<style scoped>\n    .dataframe tbody tr th:only-of-type {\n        vertical-align: middle;\n    }\n\n    .dataframe tbody tr th {\n        vertical-align: top;\n    }\n\n    .dataframe thead th {\n        text-align: right;\n    }\n</style>\n<table border=\"1\" class=\"dataframe\">\n  <thead>\n    <tr style=\"text-align: right;\">\n      <th></th>\n      <th>MSSubClass</th>\n      <th>MSZoning</th>\n      <th>LotArea</th>\n      <th>Neighborhood</th>\n    </tr>\n  </thead>\n  <tbody>\n    <tr>\n      <th>0</th>\n      <td>60</td>\n      <td>RL</td>\n      <td>8450</td>\n      <td>CollgCr</td>\n    </tr>\n    <tr>\n      <th>1</th>\n      <td>20</td>\n      <td>RL</td>\n      <td>9600</td>\n      <td>Veenker</td>\n    </tr>\n    <tr>\n      <th>2</th>\n      <td>60</td>\n      <td>RL</td>\n      <td>11250</td>\n      <td>CollgCr</td>\n    </tr>\n    <tr>\n      <th>3</th>\n      <td>70</td>\n      <td>RL</td>\n      <td>9550</td>\n      <td>Crawfor</td>\n    </tr>\n    <tr>\n      <th>4</th>\n      <td>60</td>\n      <td>RL</td>\n      <td>14260</td>\n      <td>NoRidge</td>\n    </tr>\n  </tbody>\n</table>\n</div>"
     },
     "execution_count": 4,
     "metadata": {},
     "output_type": "execute_result"
    }
   ],
   "source": [
    "x_train = original_train_data[['MSSubClass', 'MSZoning', 'LotArea', 'Neighborhood']]\n",
    "x_train.head()"
   ]
  },
  {
   "cell_type": "code",
   "execution_count": 15,
   "metadata": {
    "pycharm": {
     "name": "#%%\n"
    }
   },
   "outputs": [],
   "source": [
    "class HousePriceProject(CSVLoaderMixin, MLProject):\n",
    "  train_file_path = '../data/house-prices/train.csv'\n",
    "  test_file_path = '../data/house-prices/test.csv'\n",
    "  x_columns = ['MSSubClass', 'MSZoning', 'LotArea', 'Neighborhood']\n",
    "  x_columns_to_dummify = ['MSSubClass', 'MSZoning', 'Neighborhood']\n",
    "  y_columns = ['SalePrice']\n",
    "  fit_kwargs ={\n",
    "    'batch_size' : 30,\n",
    "    'epochs' : 20,\n",
    "    'callbacks' : [EarlyStopping(monitor='loss', patience=2)],\n",
    "  }\n",
    "\n",
    "  def get_model(self) -> ModelInterface:\n",
    "    input_layer = Input(shape=self.x_train.shape[1])\n",
    "    layer = Dense(60, activation='relu')(input_layer)\n",
    "    layer = Dense(60, activation='sigmoid')(layer)\n",
    "    layer = Dense(1, activation='relu')(layer)\n",
    "    model = Model(input_layer, layer)\n",
    "    model.compile(optimizer='adam', loss='binary_crossentropy')\n",
    "    print(model.summary())\n",
    "    return model"
   ]
  },
  {
   "cell_type": "code",
   "execution_count": 16,
   "metadata": {
    "pycharm": {
     "name": "#%%\n"
    }
   },
   "outputs": [],
   "source": [
    "project = HousePriceProject()"
   ]
  },
  {
   "cell_type": "code",
   "execution_count": 17,
   "metadata": {
    "pycharm": {
     "name": "#%%\n"
    }
   },
   "outputs": [
    {
     "data": {
      "text/plain": "      LotArea  MSSubClass_20  MSSubClass_30  MSSubClass_40  MSSubClass_45  \\\n0        8450              0              0              0              0   \n1        9600              1              0              0              0   \n2       11250              0              0              0              0   \n3        9550              0              0              0              0   \n4       14260              0              0              0              0   \n...       ...            ...            ...            ...            ...   \n1455     7917              0              0              0              0   \n1456    13175              1              0              0              0   \n1457     9042              0              0              0              0   \n1458     9717              1              0              0              0   \n1459     9937              1              0              0              0   \n\n      MSSubClass_50  MSSubClass_60  MSSubClass_70  MSSubClass_75  \\\n0                 0              1              0              0   \n1                 0              0              0              0   \n2                 0              1              0              0   \n3                 0              0              1              0   \n4                 0              1              0              0   \n...             ...            ...            ...            ...   \n1455              0              1              0              0   \n1456              0              0              0              0   \n1457              0              0              1              0   \n1458              0              0              0              0   \n1459              0              0              0              0   \n\n      MSSubClass_80  ...  Neighborhood_NoRidge  Neighborhood_NridgHt  \\\n0                 0  ...                     0                     0   \n1                 0  ...                     0                     0   \n2                 0  ...                     0                     0   \n3                 0  ...                     0                     0   \n4                 0  ...                     1                     0   \n...             ...  ...                   ...                   ...   \n1455              0  ...                     0                     0   \n1456              0  ...                     0                     0   \n1457              0  ...                     0                     0   \n1458              0  ...                     0                     0   \n1459              0  ...                     0                     0   \n\n      Neighborhood_OldTown  Neighborhood_SWISU  Neighborhood_Sawyer  \\\n0                        0                   0                    0   \n1                        0                   0                    0   \n2                        0                   0                    0   \n3                        0                   0                    0   \n4                        0                   0                    0   \n...                    ...                 ...                  ...   \n1455                     0                   0                    0   \n1456                     0                   0                    0   \n1457                     0                   0                    0   \n1458                     0                   0                    0   \n1459                     0                   0                    0   \n\n      Neighborhood_SawyerW  Neighborhood_Somerst  Neighborhood_StoneBr  \\\n0                        0                     0                     0   \n1                        0                     0                     0   \n2                        0                     0                     0   \n3                        0                     0                     0   \n4                        0                     0                     0   \n...                    ...                   ...                   ...   \n1455                     0                     0                     0   \n1456                     0                     0                     0   \n1457                     0                     0                     0   \n1458                     0                     0                     0   \n1459                     0                     0                     0   \n\n      Neighborhood_Timber  Neighborhood_Veenker  \n0                       0                     0  \n1                       0                     1  \n2                       0                     0  \n3                       0                     0  \n4                       0                     0  \n...                   ...                   ...  \n1455                    0                     0  \n1456                    0                     0  \n1457                    0                     0  \n1458                    0                     0  \n1459                    0                     0  \n\n[1460 rows x 46 columns]",
      "text/html": "<div>\n<style scoped>\n    .dataframe tbody tr th:only-of-type {\n        vertical-align: middle;\n    }\n\n    .dataframe tbody tr th {\n        vertical-align: top;\n    }\n\n    .dataframe thead th {\n        text-align: right;\n    }\n</style>\n<table border=\"1\" class=\"dataframe\">\n  <thead>\n    <tr style=\"text-align: right;\">\n      <th></th>\n      <th>LotArea</th>\n      <th>MSSubClass_20</th>\n      <th>MSSubClass_30</th>\n      <th>MSSubClass_40</th>\n      <th>MSSubClass_45</th>\n      <th>MSSubClass_50</th>\n      <th>MSSubClass_60</th>\n      <th>MSSubClass_70</th>\n      <th>MSSubClass_75</th>\n      <th>MSSubClass_80</th>\n      <th>...</th>\n      <th>Neighborhood_NoRidge</th>\n      <th>Neighborhood_NridgHt</th>\n      <th>Neighborhood_OldTown</th>\n      <th>Neighborhood_SWISU</th>\n      <th>Neighborhood_Sawyer</th>\n      <th>Neighborhood_SawyerW</th>\n      <th>Neighborhood_Somerst</th>\n      <th>Neighborhood_StoneBr</th>\n      <th>Neighborhood_Timber</th>\n      <th>Neighborhood_Veenker</th>\n    </tr>\n  </thead>\n  <tbody>\n    <tr>\n      <th>0</th>\n      <td>8450</td>\n      <td>0</td>\n      <td>0</td>\n      <td>0</td>\n      <td>0</td>\n      <td>0</td>\n      <td>1</td>\n      <td>0</td>\n      <td>0</td>\n      <td>0</td>\n      <td>...</td>\n      <td>0</td>\n      <td>0</td>\n      <td>0</td>\n      <td>0</td>\n      <td>0</td>\n      <td>0</td>\n      <td>0</td>\n      <td>0</td>\n      <td>0</td>\n      <td>0</td>\n    </tr>\n    <tr>\n      <th>1</th>\n      <td>9600</td>\n      <td>1</td>\n      <td>0</td>\n      <td>0</td>\n      <td>0</td>\n      <td>0</td>\n      <td>0</td>\n      <td>0</td>\n      <td>0</td>\n      <td>0</td>\n      <td>...</td>\n      <td>0</td>\n      <td>0</td>\n      <td>0</td>\n      <td>0</td>\n      <td>0</td>\n      <td>0</td>\n      <td>0</td>\n      <td>0</td>\n      <td>0</td>\n      <td>1</td>\n    </tr>\n    <tr>\n      <th>2</th>\n      <td>11250</td>\n      <td>0</td>\n      <td>0</td>\n      <td>0</td>\n      <td>0</td>\n      <td>0</td>\n      <td>1</td>\n      <td>0</td>\n      <td>0</td>\n      <td>0</td>\n      <td>...</td>\n      <td>0</td>\n      <td>0</td>\n      <td>0</td>\n      <td>0</td>\n      <td>0</td>\n      <td>0</td>\n      <td>0</td>\n      <td>0</td>\n      <td>0</td>\n      <td>0</td>\n    </tr>\n    <tr>\n      <th>3</th>\n      <td>9550</td>\n      <td>0</td>\n      <td>0</td>\n      <td>0</td>\n      <td>0</td>\n      <td>0</td>\n      <td>0</td>\n      <td>1</td>\n      <td>0</td>\n      <td>0</td>\n      <td>...</td>\n      <td>0</td>\n      <td>0</td>\n      <td>0</td>\n      <td>0</td>\n      <td>0</td>\n      <td>0</td>\n      <td>0</td>\n      <td>0</td>\n      <td>0</td>\n      <td>0</td>\n    </tr>\n    <tr>\n      <th>4</th>\n      <td>14260</td>\n      <td>0</td>\n      <td>0</td>\n      <td>0</td>\n      <td>0</td>\n      <td>0</td>\n      <td>1</td>\n      <td>0</td>\n      <td>0</td>\n      <td>0</td>\n      <td>...</td>\n      <td>1</td>\n      <td>0</td>\n      <td>0</td>\n      <td>0</td>\n      <td>0</td>\n      <td>0</td>\n      <td>0</td>\n      <td>0</td>\n      <td>0</td>\n      <td>0</td>\n    </tr>\n    <tr>\n      <th>...</th>\n      <td>...</td>\n      <td>...</td>\n      <td>...</td>\n      <td>...</td>\n      <td>...</td>\n      <td>...</td>\n      <td>...</td>\n      <td>...</td>\n      <td>...</td>\n      <td>...</td>\n      <td>...</td>\n      <td>...</td>\n      <td>...</td>\n      <td>...</td>\n      <td>...</td>\n      <td>...</td>\n      <td>...</td>\n      <td>...</td>\n      <td>...</td>\n      <td>...</td>\n      <td>...</td>\n    </tr>\n    <tr>\n      <th>1455</th>\n      <td>7917</td>\n      <td>0</td>\n      <td>0</td>\n      <td>0</td>\n      <td>0</td>\n      <td>0</td>\n      <td>1</td>\n      <td>0</td>\n      <td>0</td>\n      <td>0</td>\n      <td>...</td>\n      <td>0</td>\n      <td>0</td>\n      <td>0</td>\n      <td>0</td>\n      <td>0</td>\n      <td>0</td>\n      <td>0</td>\n      <td>0</td>\n      <td>0</td>\n      <td>0</td>\n    </tr>\n    <tr>\n      <th>1456</th>\n      <td>13175</td>\n      <td>1</td>\n      <td>0</td>\n      <td>0</td>\n      <td>0</td>\n      <td>0</td>\n      <td>0</td>\n      <td>0</td>\n      <td>0</td>\n      <td>0</td>\n      <td>...</td>\n      <td>0</td>\n      <td>0</td>\n      <td>0</td>\n      <td>0</td>\n      <td>0</td>\n      <td>0</td>\n      <td>0</td>\n      <td>0</td>\n      <td>0</td>\n      <td>0</td>\n    </tr>\n    <tr>\n      <th>1457</th>\n      <td>9042</td>\n      <td>0</td>\n      <td>0</td>\n      <td>0</td>\n      <td>0</td>\n      <td>0</td>\n      <td>0</td>\n      <td>1</td>\n      <td>0</td>\n      <td>0</td>\n      <td>...</td>\n      <td>0</td>\n      <td>0</td>\n      <td>0</td>\n      <td>0</td>\n      <td>0</td>\n      <td>0</td>\n      <td>0</td>\n      <td>0</td>\n      <td>0</td>\n      <td>0</td>\n    </tr>\n    <tr>\n      <th>1458</th>\n      <td>9717</td>\n      <td>1</td>\n      <td>0</td>\n      <td>0</td>\n      <td>0</td>\n      <td>0</td>\n      <td>0</td>\n      <td>0</td>\n      <td>0</td>\n      <td>0</td>\n      <td>...</td>\n      <td>0</td>\n      <td>0</td>\n      <td>0</td>\n      <td>0</td>\n      <td>0</td>\n      <td>0</td>\n      <td>0</td>\n      <td>0</td>\n      <td>0</td>\n      <td>0</td>\n    </tr>\n    <tr>\n      <th>1459</th>\n      <td>9937</td>\n      <td>1</td>\n      <td>0</td>\n      <td>0</td>\n      <td>0</td>\n      <td>0</td>\n      <td>0</td>\n      <td>0</td>\n      <td>0</td>\n      <td>0</td>\n      <td>...</td>\n      <td>0</td>\n      <td>0</td>\n      <td>0</td>\n      <td>0</td>\n      <td>0</td>\n      <td>0</td>\n      <td>0</td>\n      <td>0</td>\n      <td>0</td>\n      <td>0</td>\n    </tr>\n  </tbody>\n</table>\n<p>1460 rows × 46 columns</p>\n</div>"
     },
     "execution_count": 17,
     "metadata": {},
     "output_type": "execute_result"
    }
   ],
   "source": [
    "project.x_train"
   ]
  },
  {
   "cell_type": "code",
   "execution_count": 18,
   "outputs": [
    {
     "data": {
      "text/plain": "      SalePrice\n0        208500\n1        181500\n2        223500\n3        140000\n4        250000\n...         ...\n1455     175000\n1456     210000\n1457     266500\n1458     142125\n1459     147500\n\n[1460 rows x 1 columns]",
      "text/html": "<div>\n<style scoped>\n    .dataframe tbody tr th:only-of-type {\n        vertical-align: middle;\n    }\n\n    .dataframe tbody tr th {\n        vertical-align: top;\n    }\n\n    .dataframe thead th {\n        text-align: right;\n    }\n</style>\n<table border=\"1\" class=\"dataframe\">\n  <thead>\n    <tr style=\"text-align: right;\">\n      <th></th>\n      <th>SalePrice</th>\n    </tr>\n  </thead>\n  <tbody>\n    <tr>\n      <th>0</th>\n      <td>208500</td>\n    </tr>\n    <tr>\n      <th>1</th>\n      <td>181500</td>\n    </tr>\n    <tr>\n      <th>2</th>\n      <td>223500</td>\n    </tr>\n    <tr>\n      <th>3</th>\n      <td>140000</td>\n    </tr>\n    <tr>\n      <th>4</th>\n      <td>250000</td>\n    </tr>\n    <tr>\n      <th>...</th>\n      <td>...</td>\n    </tr>\n    <tr>\n      <th>1455</th>\n      <td>175000</td>\n    </tr>\n    <tr>\n      <th>1456</th>\n      <td>210000</td>\n    </tr>\n    <tr>\n      <th>1457</th>\n      <td>266500</td>\n    </tr>\n    <tr>\n      <th>1458</th>\n      <td>142125</td>\n    </tr>\n    <tr>\n      <th>1459</th>\n      <td>147500</td>\n    </tr>\n  </tbody>\n</table>\n<p>1460 rows × 1 columns</p>\n</div>"
     },
     "execution_count": 18,
     "metadata": {},
     "output_type": "execute_result"
    }
   ],
   "source": [
    "project.y_train"
   ],
   "metadata": {
    "collapsed": false,
    "pycharm": {
     "name": "#%%\n"
    }
   }
  },
  {
   "cell_type": "code",
   "execution_count": 19,
   "outputs": [
    {
     "name": "stdout",
     "output_type": "stream",
     "text": [
      "Model: \"functional_3\"\n",
      "_________________________________________________________________\n",
      "Layer (type)                 Output Shape              Param #   \n",
      "=================================================================\n",
      "input_3 (InputLayer)         [(None, 46)]              0         \n",
      "_________________________________________________________________\n",
      "dense_4 (Dense)              (None, 60)                2820      \n",
      "_________________________________________________________________\n",
      "dense_5 (Dense)              (None, 60)                3660      \n",
      "_________________________________________________________________\n",
      "dense_6 (Dense)              (None, 1)                 61        \n",
      "=================================================================\n",
      "Total params: 6,541\n",
      "Trainable params: 6,541\n",
      "Non-trainable params: 0\n",
      "_________________________________________________________________\n",
      "None\n",
      "Epoch 1/20\n",
      "49/49 [==============================] - 0s 518us/step - loss: -1133610.2500\b\b\b\b\b\b\b\b\b\b\b\b\b\b\b\b\b\b\b\b\b\b\b\b\b\b\b\b\b\b\b\b\b\b\b\b\b\b\b\b\b\b\b\b\b\b\b\b\b\b\b\b\b\b\b\b\b\b\b\b\n",
      "Epoch 2/20\n",
      "49/49 [==============================] - 0s 610us/step - loss: -2758895.2500\b\b\b\b\b\b\b\b\b\b\b\b\b\b\b\b\b\b\b\b\b\b\b\b\b\b\b\b\b\b\b\b\b\b\b\b\b\b\b\b\b\b\b\b\b\b\b\b\b\b\b\b\b\b\b\b\b\b\b\b\b\b\b\b\n",
      "Epoch 3/20\n",
      "49/49 [==============================] - 0s 550us/step - loss: -2758894.7500\b\b\b\b\b\b\b\b\b\b\b\b\b\b\b\b\b\b\b\b\b\b\b\b\b\b\b\b\b\b\b\b\b\b\b\b\b\b\b\b\b\b\b\b\b\b\b\b\b\b\b\b\b\b\b\b\b\b\b\b\b\b\b\b\n",
      "Epoch 4/20\n",
      "49/49 [==============================] - 0s 611us/step - loss: -2758895.2500\b\b\b\b\b\b\b\b\b\b\b\b\b\b\b\b\b\b\b\b\b\b\b\b\b\b\b\b\b\b\b\b\b\b\b\b\b\b\b\b\b\b\b\b\b\b\b\b\b\b\b\b\b\b\b\b\b\b\b\b\b\b\b\b\n"
     ]
    }
   ],
   "source": [
    "project.train()\n",
    "\n"
   ],
   "metadata": {
    "collapsed": false,
    "pycharm": {
     "name": "#%%\n"
    }
   }
  },
  {
   "cell_type": "code",
   "execution_count": null,
   "outputs": [],
   "source": [],
   "metadata": {
    "collapsed": false,
    "pycharm": {
     "name": "#%%\n"
    }
   }
  }
 ],
 "metadata": {
  "kernelspec": {
   "display_name": "Python 3",
   "language": "python",
   "name": "python3"
  },
  "language_info": {
   "codemirror_mode": {
    "name": "ipython",
    "version": 3
   },
   "file_extension": ".py",
   "mimetype": "text/x-python",
   "name": "python",
   "nbconvert_exporter": "python",
   "pygments_lexer": "ipython3",
   "version": "3.6.9"
  }
 },
 "nbformat": 4,
 "nbformat_minor": 1
}