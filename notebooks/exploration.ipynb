{
 "cells": [
  {
   "cell_type": "markdown",
   "metadata": {},
   "source": [
    " ## 0) charger les jeux de données et import python"
   ]
  },
  {
   "cell_type": "markdown",
   "metadata": {},
   "source": [
    "Bonne pratique : tous les imports sont au début du fichier"
   ]
  },
  {
   "cell_type": "code",
   "execution_count": 5,
   "metadata": {},
   "outputs": [],
   "source": [
    "# faites vos imports dans cette cellule\n",
    "import pandas as pd\n",
    "from matplotlib import pyplot as plt"
   ]
  },
  {
   "cell_type": "code",
   "execution_count": 2,
   "metadata": {},
   "outputs": [],
   "source": [
    "# chargez les données\n",
    "df_orders = pd.read_csv('../data/exploration/orders.csv')\n",
    "df_orders_products_prior = pd.read_csv('../data/exploration/order_products__prior.csv')\n",
    "# df_orders_products_train = pd.read_csv('../data/exploration/order_products__train.csv')\n",
    "df_products = pd.read_csv('../data/exploration/products.csv')\n",
    "df_departments = pd.read_csv('../data/exploration/departments.csv')\n",
    "df_aisles = pd.read_csv('../data/exploration/aisles.csv')"
   ]
  },
  {
   "cell_type": "markdown",
   "metadata": {},
   "source": [
    " ## 1) Comprendre le contenu des différents fichiers"
   ]
  },
  {
   "cell_type": "code",
   "execution_count": 4,
   "metadata": {
    "scrolled": true
   },
   "outputs": [
    {
     "name": "stdout",
     "output_type": "stream",
     "text": [
      "   order_id  user_id eval_set  order_number  order_dow  order_hour_of_day  \\\n",
      "0   2539329        1    prior             1          2                  8   \n",
      "1   2398795        1    prior             2          3                  7   \n",
      "2    473747        1    prior             3          3                 12   \n",
      "3   2254736        1    prior             4          4                  7   \n",
      "4    431534        1    prior             5          4                 15   \n",
      "\n",
      "   days_since_prior_order  \n",
      "0                     NaN  \n",
      "1                    15.0  \n",
      "2                    21.0  \n",
      "3                    29.0  \n",
      "4                    28.0  \n"
     ]
    }
   ],
   "source": [
    "# df.head(), describe(), unique, n_unique sont vos amis\n",
    "# la documentation fournie aussi !\n",
    "df_orders.head()"
   ]
  },
  {
   "cell_type": "code",
   "execution_count": 5,
   "metadata": {},
   "outputs": [
    {
     "data": {
      "text/plain": "   order_id  product_id  add_to_cart_order  reordered\n0         2       33120                  1          1\n1         2       28985                  2          1\n2         2        9327                  3          0\n3         2       45918                  4          1\n4         2       30035                  5          0",
      "text/html": "<div>\n<style scoped>\n    .dataframe tbody tr th:only-of-type {\n        vertical-align: middle;\n    }\n\n    .dataframe tbody tr th {\n        vertical-align: top;\n    }\n\n    .dataframe thead th {\n        text-align: right;\n    }\n</style>\n<table border=\"1\" class=\"dataframe\">\n  <thead>\n    <tr style=\"text-align: right;\">\n      <th></th>\n      <th>order_id</th>\n      <th>product_id</th>\n      <th>add_to_cart_order</th>\n      <th>reordered</th>\n    </tr>\n  </thead>\n  <tbody>\n    <tr>\n      <th>0</th>\n      <td>2</td>\n      <td>33120</td>\n      <td>1</td>\n      <td>1</td>\n    </tr>\n    <tr>\n      <th>1</th>\n      <td>2</td>\n      <td>28985</td>\n      <td>2</td>\n      <td>1</td>\n    </tr>\n    <tr>\n      <th>2</th>\n      <td>2</td>\n      <td>9327</td>\n      <td>3</td>\n      <td>0</td>\n    </tr>\n    <tr>\n      <th>3</th>\n      <td>2</td>\n      <td>45918</td>\n      <td>4</td>\n      <td>1</td>\n    </tr>\n    <tr>\n      <th>4</th>\n      <td>2</td>\n      <td>30035</td>\n      <td>5</td>\n      <td>0</td>\n    </tr>\n  </tbody>\n</table>\n</div>"
     },
     "execution_count": 5,
     "metadata": {},
     "output_type": "execute_result"
    }
   ],
   "source": [
    "df_orders_products_prior.head()"
   ]
  },
  {
   "cell_type": "code",
   "execution_count": 8,
   "outputs": [
    {
     "data": {
      "text/plain": "prior    3214874\ntrain     131209\ntest       75000\nName: eval_set, dtype: int64"
     },
     "execution_count": 8,
     "metadata": {},
     "output_type": "execute_result"
    }
   ],
   "source": [
    "df_orders['eval_set'].value_counts()"
   ],
   "metadata": {
    "collapsed": false,
    "pycharm": {
     "name": "#%%\n"
    }
   }
  },
  {
   "cell_type": "code",
   "execution_count": 10,
   "outputs": [
    {
     "data": {
      "text/plain": "order_id  user_id  eval_set  order_number  order_dow  order_hour_of_day  days_since_prior_order\nFalse     False    False     False         False      False              False                     3214874\n                                                                         True                       206209\ndtype: int64"
     },
     "execution_count": 10,
     "metadata": {},
     "output_type": "execute_result"
    }
   ],
   "source": [
    "df_orders.isna().value_counts()"
   ],
   "metadata": {
    "collapsed": false,
    "pycharm": {
     "name": "#%%\n"
    }
   }
  },
  {
   "cell_type": "markdown",
   "metadata": {},
   "source": [
    "Quel fichiers choisir pour l'exploration ?"
   ]
  },
  {
   "cell_type": "markdown",
   "metadata": {},
   "source": [
    "## 2) Fusionner les fichiers choisis pour obtenir un dataframe permettant la visualisation"
   ]
  },
  {
   "cell_type": "code",
   "execution_count": 2,
   "metadata": {},
   "outputs": [],
   "source": [
    "# pd.merge(df1, df2, on=col_name_to_merge, how='left') peut être un ami\n",
    "df_complete = pd.merge(\n",
    "  pd.read_csv('../data/exploration/order_products__prior.csv'),\n",
    "  pd.read_csv('../data/exploration/products.csv'),\n",
    "  on='product_id',\n",
    ")\n",
    "df_complete = pd.merge(\n",
    "  df_complete,\n",
    "  pd.read_csv('../data/exploration/departments.csv'),\n",
    "  on='department_id',\n",
    ")\n",
    "df_complete = pd.merge(\n",
    "  df_complete,\n",
    "  pd.read_csv('../data/exploration/aisles.csv'),\n",
    "  on='aisle_id',\n",
    ")\n",
    "df_complete = pd.merge(\n",
    "  df_complete,\n",
    "  pd.read_csv('../data/exploration/orders.csv'),\n",
    "  on='order_id',\n",
    ")"
   ]
  },
  {
   "cell_type": "code",
   "execution_count": 3,
   "outputs": [
    {
     "data": {
      "text/plain": "   order_id  product_id  add_to_cart_order  reordered  \\\n0         2       33120                  1          1   \n1         2       28985                  2          1   \n2         2       17794                  6          1   \n3         2       43668                  9          0   \n4         2        9327                  3          0   \n\n              product_name  aisle_id  department_id  department  \\\n0       Organic Egg Whites        86             16  dairy eggs   \n1    Michigan Organic Kale        83              4     produce   \n2                  Carrots        83              4     produce   \n3  Classic Blend Cole Slaw       123              4     produce   \n4            Garlic Powder       104             13      pantry   \n\n                        aisle  user_id eval_set  order_number  order_dow  \\\n0                        eggs   202279    prior             3          5   \n1            fresh vegetables   202279    prior             3          5   \n2            fresh vegetables   202279    prior             3          5   \n3  packaged vegetables fruits   202279    prior             3          5   \n4           spices seasonings   202279    prior             3          5   \n\n   order_hour_of_day  days_since_prior_order  \n0                  9                     8.0  \n1                  9                     8.0  \n2                  9                     8.0  \n3                  9                     8.0  \n4                  9                     8.0  ",
      "text/html": "<div>\n<style scoped>\n    .dataframe tbody tr th:only-of-type {\n        vertical-align: middle;\n    }\n\n    .dataframe tbody tr th {\n        vertical-align: top;\n    }\n\n    .dataframe thead th {\n        text-align: right;\n    }\n</style>\n<table border=\"1\" class=\"dataframe\">\n  <thead>\n    <tr style=\"text-align: right;\">\n      <th></th>\n      <th>order_id</th>\n      <th>product_id</th>\n      <th>add_to_cart_order</th>\n      <th>reordered</th>\n      <th>product_name</th>\n      <th>aisle_id</th>\n      <th>department_id</th>\n      <th>department</th>\n      <th>aisle</th>\n      <th>user_id</th>\n      <th>eval_set</th>\n      <th>order_number</th>\n      <th>order_dow</th>\n      <th>order_hour_of_day</th>\n      <th>days_since_prior_order</th>\n    </tr>\n  </thead>\n  <tbody>\n    <tr>\n      <th>0</th>\n      <td>2</td>\n      <td>33120</td>\n      <td>1</td>\n      <td>1</td>\n      <td>Organic Egg Whites</td>\n      <td>86</td>\n      <td>16</td>\n      <td>dairy eggs</td>\n      <td>eggs</td>\n      <td>202279</td>\n      <td>prior</td>\n      <td>3</td>\n      <td>5</td>\n      <td>9</td>\n      <td>8.0</td>\n    </tr>\n    <tr>\n      <th>1</th>\n      <td>2</td>\n      <td>28985</td>\n      <td>2</td>\n      <td>1</td>\n      <td>Michigan Organic Kale</td>\n      <td>83</td>\n      <td>4</td>\n      <td>produce</td>\n      <td>fresh vegetables</td>\n      <td>202279</td>\n      <td>prior</td>\n      <td>3</td>\n      <td>5</td>\n      <td>9</td>\n      <td>8.0</td>\n    </tr>\n    <tr>\n      <th>2</th>\n      <td>2</td>\n      <td>17794</td>\n      <td>6</td>\n      <td>1</td>\n      <td>Carrots</td>\n      <td>83</td>\n      <td>4</td>\n      <td>produce</td>\n      <td>fresh vegetables</td>\n      <td>202279</td>\n      <td>prior</td>\n      <td>3</td>\n      <td>5</td>\n      <td>9</td>\n      <td>8.0</td>\n    </tr>\n    <tr>\n      <th>3</th>\n      <td>2</td>\n      <td>43668</td>\n      <td>9</td>\n      <td>0</td>\n      <td>Classic Blend Cole Slaw</td>\n      <td>123</td>\n      <td>4</td>\n      <td>produce</td>\n      <td>packaged vegetables fruits</td>\n      <td>202279</td>\n      <td>prior</td>\n      <td>3</td>\n      <td>5</td>\n      <td>9</td>\n      <td>8.0</td>\n    </tr>\n    <tr>\n      <th>4</th>\n      <td>2</td>\n      <td>9327</td>\n      <td>3</td>\n      <td>0</td>\n      <td>Garlic Powder</td>\n      <td>104</td>\n      <td>13</td>\n      <td>pantry</td>\n      <td>spices seasonings</td>\n      <td>202279</td>\n      <td>prior</td>\n      <td>3</td>\n      <td>5</td>\n      <td>9</td>\n      <td>8.0</td>\n    </tr>\n  </tbody>\n</table>\n</div>"
     },
     "execution_count": 3,
     "metadata": {},
     "output_type": "execute_result"
    }
   ],
   "source": [
    "df_complete.head()\n"
   ],
   "metadata": {
    "collapsed": false,
    "pycharm": {
     "name": "#%%\n"
    }
   }
  },
  {
   "cell_type": "code",
   "execution_count": 7,
   "metadata": {},
   "outputs": [],
   "source": [
    "# supprimez les colonnes devenues inutiles\n",
    "del df_complete['aisle_id']\n",
    "del df_complete['department_id']\n",
    "del df_complete['product_id']"
   ]
  },
  {
   "cell_type": "markdown",
   "metadata": {},
   "source": [
    "## 3) Explorer les données"
   ]
  },
  {
   "cell_type": "markdown",
   "metadata": {},
   "source": [
    "- regarder la répartition des différentes variables dans le jeu de données et leurs proportions\n",
    "    - vous pouvez pour visualiser faire des camemberts avec matplotlib.pie ou des histogrames avec sns.barplot\n",
    "    - faites un premier jet, puis essayer d'améliorer leur rendu (fusionner les categories trop petites, ...)\n",
    "    - tout graphe doit avoir un titre et une description du contenu de chaque axe"
   ]
  },
  {
   "cell_type": "code",
   "execution_count": 12,
   "outputs": [
    {
     "data": {
      "text/plain": "array(['dairy eggs', 'produce', 'pantry', 'meat seafood', 'frozen',\n       'beverages', 'snacks', 'breakfast', 'deli', 'dry goods pasta',\n       'international', 'household', 'canned goods', 'personal care',\n       'other', 'missing', 'bakery', 'pets', 'bulk', 'babies', 'alcohol'],\n      dtype=object)"
     },
     "execution_count": 12,
     "metadata": {},
     "output_type": "execute_result"
    }
   ],
   "source": [
    "df_complete['department'].unique()"
   ],
   "metadata": {
    "collapsed": false,
    "pycharm": {
     "name": "#%%\n"
    }
   }
  },
  {
   "cell_type": "code",
   "execution_count": 20,
   "metadata": {},
   "outputs": [
    {
     "data": {
      "text/plain": "produce            9479291\ndairy eggs         5414016\nsnacks             2887550\nbeverages          2690129\nfrozen             2236432\npantry             1875577\nbakery             1176787\ncanned goods       1068058\ndeli               1051249\ndry goods pasta     866627\nhousehold           738666\nbreakfast           709569\nmeat seafood        708931\npersonal care       447123\nbabies              423802\ninternational       269253\nalcohol             153696\npets                 97724\nmissing              69145\nother                36291\nbulk                 34573\nName: department, dtype: int64"
     },
     "execution_count": 20,
     "metadata": {},
     "output_type": "execute_result"
    }
   ],
   "source": [
    "df_complete['department'].value_counts()"
   ]
  },
  {
   "cell_type": "code",
   "execution_count": 19,
   "outputs": [
    {
     "data": {
      "text/plain": "<Figure size 432x288 with 1 Axes>",
      "image/png": "[encoded data removed]"
     },
     "metadata": {},
     "output_type": "display_data"
    }
   ],
   "source": [
    "values = df_complete['department'].value_counts()\n",
    "_ = plt.pie(values, labels=values.index)"
   ],
   "metadata": {
    "collapsed": false,
    "pycharm": {
     "name": "#%%\n"
    }
   }
  },
  {
   "cell_type": "markdown",
   "metadata": {},
   "source": [
    "- regarder la corrélation des variables avec l'objectif\n",
    "    - par exemple y a-t-il des jours avec plus de commandes ?\n",
    "    - l'heure a-t-elle une influence sur l'achat ?\n",
    "    - est-ce que les personnes commandent souvent le même jour de la semaine ?\n",
    "    - quel est le délai moyen entre deux commandes de la même personne ?"
   ]
  },
  {
   "cell_type": "code",
   "execution_count": 41,
   "metadata": {},
   "outputs": [
    {
     "data": {
      "text/plain": "order_dow\n0    6209666\n1    5665856\n2    4217798\n3    3844117\n4    3787215\n5    4209533\n6    4500304\nName: order_id, dtype: int64"
     },
     "execution_count": 41,
     "metadata": {},
     "output_type": "execute_result"
    }
   ],
   "source": [
    "data = df_complete[['order_dow', 'order_id']].groupby('order_dow').count()\n",
    "data['order_id']\n",
    "# plt.plot(data['order_dow'], ['order_id'])\n",
    "# data.head()"
   ]
  },
  {
   "cell_type": "markdown",
   "metadata": {},
   "source": [
    "- Observer les utilisateurs. Y-a-t-il des utilisateurs ayant des profils similaires ?\n",
    "    - faisants leur achats aux même heures\n",
    "    - achetant les même types de produits\n",
    "    ..."
   ]
  },
  {
   "cell_type": "code",
   "execution_count": null,
   "metadata": {},
   "outputs": [],
   "source": []
  }
 ],
 "metadata": {
  "kernelspec": {
   "display_name": "Python 3",
   "language": "python",
   "name": "python3"
  },
  "language_info": {
   "codemirror_mode": {
    "name": "ipython",
    "version": 3
   },
   "file_extension": ".py",
   "mimetype": "text/x-python",
   "name": "python",
   "nbconvert_exporter": "python",
   "pygments_lexer": "ipython3",
   "version": "3.6.8"
  }
 },
 "nbformat": 4,
 "nbformat_minor": 4
}